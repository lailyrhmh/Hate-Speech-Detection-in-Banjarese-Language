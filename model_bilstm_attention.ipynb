{
 "cells": [
  {
   "cell_type": "markdown",
   "metadata": {},
   "source": [
    "### import"
   ]
  },
  {
   "cell_type": "code",
   "execution_count": 5,
   "metadata": {},
   "outputs": [],
   "source": [
    "import warnings\n",
    "warnings.filterwarnings('ignore')\n",
    "\n",
    "# Modules for data manipulation\n",
    "import numpy as np\n",
    "import pandas as pd\n",
    "import re\n",
    "\n",
    "# Modules for visualization\n",
    "import matplotlib.pyplot as plt\n",
    "import seaborn as sb\n",
    "\n",
    "# Tools for preprocessing input data\n",
    "from bs4 import BeautifulSoup\n",
    "from nltk import word_tokenize\n",
    "from nltk.corpus import stopwords\n",
    "from nltk.stem import WordNetLemmatizer\n",
    "from Sastrawi.Stemmer.StemmerFactory import StemmerFactory\n",
    "\n",
    "# Tools for creating ngrams and vectorizing input data\n",
    "from gensim.models import Word2Vec, Phrases\n",
    "\n",
    "# Tools for building a model\n",
    "from sklearn.model_selection import train_test_split\n",
    "from keras.models import Sequential\n",
    "from keras.layers import Dense, LSTM, Dropout, Bidirectional, Embedding, ReLU, Layer\n",
    "from keras.preprocessing.text import Tokenizer\n",
    "from keras.preprocessing.sequence import pad_sequences\n",
    "from keras.callbacks import EarlyStopping, ModelCheckpoint\n",
    "from keras import regularizers\n",
    "\n",
    "# Tools for assessing the quality of model prediction\n",
    "from sklearn.metrics import accuracy_score, confusion_matrix\n",
    "from sklearn.metrics import precision_recall_fscore_support, classification_report\n",
    "from sklearn.utils import class_weight\n",
    "\n",
    "# Tools for saving and loading tokenizer\n",
    "import pickle\n",
    "\n",
    "# TensorFlow and Keras callbacks\n",
    "import tensorflow as tf\n",
    "tensorboard_callback = tf.keras.callbacks.TensorBoard(log_dir=\"logs\")\n",
    "\n",
    "# Other utility tools\n",
    "from string import punctuation\n",
    "from collections import defaultdict\n",
    "from typing import List, Dict\n",
    "import json"
   ]
  },
  {
   "cell_type": "markdown",
   "metadata": {},
   "source": [
    "### load data"
   ]
  },
  {
   "cell_type": "code",
   "execution_count": 2,
   "metadata": {},
   "outputs": [],
   "source": [
    "SMALL_SIZE = 12\n",
    "MEDIUM_SIZE = 14\n",
    "BIG_SIZE = 16\n",
    "LARGE_SIZE = 20\n",
    "\n",
    "params = {\n",
    "    'figure.figsize': (16, 8),\n",
    "    'font.size': SMALL_SIZE,\n",
    "    'xtick.labelsize': MEDIUM_SIZE,\n",
    "    'ytick.labelsize': MEDIUM_SIZE,\n",
    "    'legend.fontsize': BIG_SIZE,\n",
    "    'figure.titlesize': LARGE_SIZE,\n",
    "    'axes.titlesize': MEDIUM_SIZE,\n",
    "    'axes.labelsize': BIG_SIZE\n",
    "}\n",
    "plt.rcParams.update(params)"
   ]
  },
  {
   "cell_type": "markdown",
   "metadata": {},
   "source": [
    "load clean data"
   ]
  },
  {
   "cell_type": "code",
   "execution_count": 6,
   "metadata": {},
   "outputs": [
    {
     "name": "stdout",
     "output_type": "stream",
     "text": [
      "<class 'pandas.core.frame.DataFrame'>\n",
      "RangeIndex: 10000 entries, 0 to 9999\n",
      "Data columns (total 3 columns):\n",
      " #   Column      Non-Null Count  Dtype  \n",
      "---  ------      --------------  -----  \n",
      " 0   text        10000 non-null  object \n",
      " 1   label       10000 non-null  float64\n",
      " 2   clean_text  10000 non-null  object \n",
      "dtypes: float64(1), object(2)\n",
      "memory usage: 234.5+ KB\n"
     ]
    },
    {
     "data": {
      "text/html": [
       "<div>\n",
       "<style scoped>\n",
       "    .dataframe tbody tr th:only-of-type {\n",
       "        vertical-align: middle;\n",
       "    }\n",
       "\n",
       "    .dataframe tbody tr th {\n",
       "        vertical-align: top;\n",
       "    }\n",
       "\n",
       "    .dataframe thead th {\n",
       "        text-align: right;\n",
       "    }\n",
       "</style>\n",
       "<table border=\"1\" class=\"dataframe\">\n",
       "  <thead>\n",
       "    <tr style=\"text-align: right;\">\n",
       "      <th></th>\n",
       "      <th>text</th>\n",
       "      <th>label</th>\n",
       "      <th>clean_text</th>\n",
       "    </tr>\n",
       "  </thead>\n",
       "  <tbody>\n",
       "    <tr>\n",
       "      <th>0</th>\n",
       "      <td>endorse sapatu aja pak</td>\n",
       "      <td>0.0</td>\n",
       "      <td>['endorse', 'sapatu', 'aja', 'pak']</td>\n",
       "    </tr>\n",
       "    <tr>\n",
       "      <th>1</th>\n",
       "      <td>ayo parak sudah</td>\n",
       "      <td>0.0</td>\n",
       "      <td>['ayo', 'parak', 'sudah']</td>\n",
       "    </tr>\n",
       "    <tr>\n",
       "      <th>2</th>\n",
       "      <td>nang kaini pang kada tau apa apa lalu ditangkap</td>\n",
       "      <td>0.0</td>\n",
       "      <td>['nang', 'kaini', 'pang', 'kada', 'tau', 'apa'...</td>\n",
       "    </tr>\n",
       "    <tr>\n",
       "      <th>3</th>\n",
       "      <td>oh ini kah gawiannya</td>\n",
       "      <td>0.0</td>\n",
       "      <td>['oh', 'ini', 'kah', 'gawiannya']</td>\n",
       "    </tr>\n",
       "    <tr>\n",
       "      <th>4</th>\n",
       "      <td>semoga peraturannya bisa direvisi</td>\n",
       "      <td>0.0</td>\n",
       "      <td>['semoga', 'peraturannya', 'bisa', 'direvisi']</td>\n",
       "    </tr>\n",
       "  </tbody>\n",
       "</table>\n",
       "</div>"
      ],
      "text/plain": [
       "                                              text  label  \\\n",
       "0                           endorse sapatu aja pak    0.0   \n",
       "1                                  ayo parak sudah    0.0   \n",
       "2  nang kaini pang kada tau apa apa lalu ditangkap    0.0   \n",
       "3                             oh ini kah gawiannya    0.0   \n",
       "4                semoga peraturannya bisa direvisi    0.0   \n",
       "\n",
       "                                          clean_text  \n",
       "0                ['endorse', 'sapatu', 'aja', 'pak']  \n",
       "1                          ['ayo', 'parak', 'sudah']  \n",
       "2  ['nang', 'kaini', 'pang', 'kada', 'tau', 'apa'...  \n",
       "3                  ['oh', 'ini', 'kah', 'gawiannya']  \n",
       "4     ['semoga', 'peraturannya', 'bisa', 'direvisi']  "
      ]
     },
     "execution_count": 6,
     "metadata": {},
     "output_type": "execute_result"
    }
   ],
   "source": [
    "# load data\n",
    "df = pd.read_csv('C:\\Data\\KULIAH\\skripsi\\model\\eksperimen\\dataset.csv')\n",
    "df.info()\n",
    "df.head()"
   ]
  },
  {
   "cell_type": "markdown",
   "metadata": {},
   "source": [
    "### data normalisasi"
   ]
  },
  {
   "cell_type": "code",
   "execution_count": 4,
   "metadata": {},
   "outputs": [],
   "source": [
    "def remove_emoji(text):\n",
    "    emoji_pattern = re.compile(\"[\"\n",
    "     u\"\\U0001F600-\\U0001F64F\" # emoticons\n",
    "     u\"\\U0001F300-\\U0001F5FF\" # symbols & pictographs\n",
    "     u\"\\U0001F680-\\U0001F6FF\" # transport & map symbols\n",
    "     u\"\\U0001F1E0-\\U0001F1FF\" # flags (iOS)\n",
    "     u\"\\U00002702-\\U000027B0\" # symbols\n",
    "     u\"\\U000024C2-\\U0001F251\" # pictographs\n",
    "     u\"\\U0001F900-\\U0001F9FF\" # Supplemental Symbol & Pictograph\n",
    "     u\"\\U0001F1F2-\\U0001F1F4\" # Enclosed Characters\n",
    "     u\"\\U0001F1E6-\\U0001F1FF\" # Regional Indicator Symbols\n",
    "     u\"\\U0001F600-\\U0001F636\" # Emoticons\n",
    "     u\"\\U0001F681-\\U0001F6C5\" # Transport and Map Symbols\n",
    "     u\"\\U0001F30D-\\U0001F567\" # Miscellaneous Symbol& Pictograph\n",
    "     u\"\\U0001F680-\\U0001F6C0\" # Transport and Map Symbols\n",
    "     u\"\\U0001F600-\\U0001F64F\" # Emoticons\n",
    "     u\"\\U0001F300-\\U0001F5FF\" # Symbols & Pictographs\n",
    "     u\"\\U0001F680-\\U0001F6FF\" # Transport & Map Symbols\n",
    "     u\"\\U0001F1E0-\\U0001F1FF\" # Flags (iOS)\n",
    "                           \"]+\", flags=re.UNICODE)\n",
    "    return emoji_pattern.sub(r'', text)\n",
    "\n",
    "def clean_review(raw_review: str) -> str:\n",
    "    # 1. Remove HTML\n",
    "    review_text = BeautifulSoup(raw_review, \"lxml\").get_text()\n",
    "    # 2. Remove non-letters\n",
    "    letters_only = REPLACE_WITH_SPACE.sub(\" \", review_text)\n",
    "    # 3. Convert to lower case\n",
    "    lowercase_letters = letters_only.lower()\n",
    "    # 4. Remove emojis\n",
    "    no_emojis = remove_emoji(lowercase_letters)\n",
    "    return no_emojis\n",
    "\n",
    "\n",
    "def load_lexical_dict(filepath: str) -> Dict[str, List[str]]:\n",
    "    with open(filepath, 'r', encoding='utf-8') as file:\n",
    "        lexical_dict = json.load(file)\n",
    "    return lexical_dict\n",
    "\n",
    "def lexical(tokens: List[str], lexical_dict: Dict[str, List[str]]) -> List[str]:\n",
    "    lexical_tokens = []\n",
    "    for token in tokens:\n",
    "        # Cari token dalam kamus\n",
    "        found = False\n",
    "        for key, variations in lexical_dict.items():\n",
    "            if token in variations:\n",
    "                lexical_tokens.append(key)\n",
    "                found = True\n",
    "                break\n",
    "        if not found:\n",
    "            lexical_tokens.append(token)\n",
    "    return lexical_tokens\n",
    "\n",
    "\n",
    "def lemmatize(tokens: List[str]) -> List[str]:\n",
    "    # 1. Lemmatize\n",
    "    tokens = [stemmer.stem(token) for token in tokens]\n",
    "    # 2. Remove stop words\n",
    "    meaningful_words = [word for word in tokens if word not in stop_words]\n",
    "    return meaningful_words\n",
    "\n",
    "\n",
    "def preprocess(review: str, total: int, show_progress: bool = True) -> list:\n",
    "    if show_progress:\n",
    "        global counter\n",
    "        counter += 1\n",
    "        print('Processing... %6i/%6i'% (counter, total), end='\\r')\n",
    "    # 1. Clean text\n",
    "    review = clean_review(review)\n",
    "    # 2. Split into individual words\n",
    "    tokens = word_tokenize(review)\n",
    "    # 3. remove lexical variation\n",
    "    lexical_tokens = lexical(tokens, lexical_dict)\n",
    "    # 4. Lemmatize\n",
    "    lemmas = lemmatize(lexical_tokens)\n",
    "    return lexical_tokens"
   ]
  },
  {
   "cell_type": "code",
   "execution_count": 5,
   "metadata": {},
   "outputs": [],
   "source": [
    "counter = 0\n",
    "REPLACE_WITH_SPACE = re.compile(r'[^A-Za-z\\s]')\n",
    "stop_words = set(stopwords.words(\"indonesian\")) \n",
    "custom_stopwords = set(['yg', 'dgn', 'dg', 'nya', 'sagan', 'ada', 'adalah', \n",
    "                  'adanya', 'adaha', 'unda', 'undaja', 'banar', 'ikam', \n",
    "                  'keini', 'kaya', 'kayaitu', 'balum', 'bujur', 'bujurkah', \n",
    "                  'bujurlah', 'ampih', 'barapa', 'baarti', 'pamulaan', 'bari', \n",
    "                  'barii', 'basiap', 'besiap', 'batakun', 'betakun', 'baurutan', \n",
    "                  'baucap', 'lain', 'nang', 'atawa', 'sudahai', 'sesala', 'sasala', \n",
    "                  'pahadangan', 'dahulu', 'ampat', 'inya', 'uma', 'umpat', \n",
    "                  'handak', 'handakkah', 'ngini', 'nginikah', 'jua', 'wayah', 'amun', \n",
    "                  'ikm', 'ikam', 'nyw', 'bedua', 'badua', 'kaluar', 'kena', 'labih', \n",
    "                  'kekaya', 'nangkaya', 'ampih', 'nang'\n",
    "                  'haja', 'pang', 'mun', 'wan', 'lawan', 'kaitu', \n",
    "                  'ai', 'ae', 'pulang', 'kalo', 'kawa', 'kaini', 'tu', 'ja', 'ni',\n",
    "                  'aja', 'kah', 'tuh', 'lo', 'gin', 'tagal'])\n",
    "stop_words = stop_words.union(custom_stopwords)\n",
    "factory = StemmerFactory()\n",
    "stemmer = factory.create_stemmer()\n",
    "lexical_dict_filepath = 'C:\\Data\\KULIAH\\skripsi\\model\\eksperimen\\pengujian\\lexical.json'\n",
    "lexical_dict = load_lexical_dict(lexical_dict_filepath)"
   ]
  },
  {
   "cell_type": "code",
   "execution_count": null,
   "metadata": {},
   "outputs": [],
   "source": [
    "# preprocess the training data\n",
    "df['norm'] = df['text'].apply(lambda x: preprocess(x, len(df)))\n",
    "counter = 0"
   ]
  },
  {
   "cell_type": "code",
   "execution_count": 8,
   "metadata": {},
   "outputs": [
    {
     "data": {
      "text/html": [
       "<div>\n",
       "<style scoped>\n",
       "    .dataframe tbody tr th:only-of-type {\n",
       "        vertical-align: middle;\n",
       "    }\n",
       "\n",
       "    .dataframe tbody tr th {\n",
       "        vertical-align: top;\n",
       "    }\n",
       "\n",
       "    .dataframe thead th {\n",
       "        text-align: right;\n",
       "    }\n",
       "</style>\n",
       "<table border=\"1\" class=\"dataframe\">\n",
       "  <thead>\n",
       "    <tr style=\"text-align: right;\">\n",
       "      <th></th>\n",
       "      <th>text</th>\n",
       "      <th>label</th>\n",
       "      <th>non_norm</th>\n",
       "      <th>norm</th>\n",
       "    </tr>\n",
       "  </thead>\n",
       "  <tbody>\n",
       "    <tr>\n",
       "      <th>0</th>\n",
       "      <td>endorse sapatu aja pak</td>\n",
       "      <td>0.0</td>\n",
       "      <td>['endorse', 'sapatu', 'aja', 'pak']</td>\n",
       "      <td>[endorse, sapatu, aja, pak]</td>\n",
       "    </tr>\n",
       "    <tr>\n",
       "      <th>1</th>\n",
       "      <td>ayo parak sudah</td>\n",
       "      <td>0.0</td>\n",
       "      <td>['ayo', 'parak', 'sudah']</td>\n",
       "      <td>[ayo, parak, sudah]</td>\n",
       "    </tr>\n",
       "    <tr>\n",
       "      <th>2</th>\n",
       "      <td>nang kaini pang kada tau apa apa lalu ditangkap</td>\n",
       "      <td>0.0</td>\n",
       "      <td>['nang', 'kaini', 'pang', 'kada', 'tau', 'apa'...</td>\n",
       "      <td>[nang, kaini, pang, kada, tau, apa, apa, lalu,...</td>\n",
       "    </tr>\n",
       "    <tr>\n",
       "      <th>3</th>\n",
       "      <td>oh ini kah gawiannya</td>\n",
       "      <td>0.0</td>\n",
       "      <td>['oh', 'ini', 'kah', 'gawiannya']</td>\n",
       "      <td>[oh, ini, kah, gawiannya]</td>\n",
       "    </tr>\n",
       "    <tr>\n",
       "      <th>4</th>\n",
       "      <td>semoga peraturannya bisa direvisi</td>\n",
       "      <td>0.0</td>\n",
       "      <td>['semoga', 'peraturannya', 'bisa', 'direvisi']</td>\n",
       "      <td>[semoga, peraturannya, bisa, direvisi]</td>\n",
       "    </tr>\n",
       "  </tbody>\n",
       "</table>\n",
       "</div>"
      ],
      "text/plain": [
       "                                              text  label  \\\n",
       "0                           endorse sapatu aja pak    0.0   \n",
       "1                                  ayo parak sudah    0.0   \n",
       "2  nang kaini pang kada tau apa apa lalu ditangkap    0.0   \n",
       "3                             oh ini kah gawiannya    0.0   \n",
       "4                semoga peraturannya bisa direvisi    0.0   \n",
       "\n",
       "                                            non_norm  \\\n",
       "0                ['endorse', 'sapatu', 'aja', 'pak']   \n",
       "1                          ['ayo', 'parak', 'sudah']   \n",
       "2  ['nang', 'kaini', 'pang', 'kada', 'tau', 'apa'...   \n",
       "3                  ['oh', 'ini', 'kah', 'gawiannya']   \n",
       "4     ['semoga', 'peraturannya', 'bisa', 'direvisi']   \n",
       "\n",
       "                                                norm  \n",
       "0                        [endorse, sapatu, aja, pak]  \n",
       "1                                [ayo, parak, sudah]  \n",
       "2  [nang, kaini, pang, kada, tau, apa, apa, lalu,...  \n",
       "3                          [oh, ini, kah, gawiannya]  \n",
       "4             [semoga, peraturannya, bisa, direvisi]  "
      ]
     },
     "execution_count": 8,
     "metadata": {},
     "output_type": "execute_result"
    }
   ],
   "source": [
    "# mengganti nama column 'clean_text' menjadi 'non_norm'\n",
    "df = df.rename(columns = {'clean_text':'non_norm'})\n",
    "df.head()"
   ]
  },
  {
   "cell_type": "code",
   "execution_count": 14,
   "metadata": {},
   "outputs": [],
   "source": [
    "df = pd.read_csv(r'C:\\Data\\KULIAH\\skripsi\\model\\eksperimen\\fix\\dataset.csv')"
   ]
  },
  {
   "cell_type": "code",
   "execution_count": 34,
   "metadata": {},
   "outputs": [],
   "source": [
    "train_data, text_data = train_test_split(df, test_size=0.2, random_state=32)"
   ]
  },
  {
   "cell_type": "code",
   "execution_count": 35,
   "metadata": {},
   "outputs": [
    {
     "data": {
      "text/html": [
       "<div>\n",
       "<style scoped>\n",
       "    .dataframe tbody tr th:only-of-type {\n",
       "        vertical-align: middle;\n",
       "    }\n",
       "\n",
       "    .dataframe tbody tr th {\n",
       "        vertical-align: top;\n",
       "    }\n",
       "\n",
       "    .dataframe thead th {\n",
       "        text-align: right;\n",
       "    }\n",
       "</style>\n",
       "<table border=\"1\" class=\"dataframe\">\n",
       "  <thead>\n",
       "    <tr style=\"text-align: right;\">\n",
       "      <th></th>\n",
       "      <th>text</th>\n",
       "      <th>label</th>\n",
       "      <th>non_norm</th>\n",
       "      <th>norm</th>\n",
       "    </tr>\n",
       "  </thead>\n",
       "  <tbody>\n",
       "    <tr>\n",
       "      <th>4004</th>\n",
       "      <td>kalu katulahan ling ae</td>\n",
       "      <td>0.0</td>\n",
       "      <td>['kalu', 'katulahan', 'ling', 'ae']</td>\n",
       "      <td>['kalu', 'katulahan', 'ling', 'ai']</td>\n",
       "    </tr>\n",
       "    <tr>\n",
       "      <th>9121</th>\n",
       "      <td>lagi berusaha sehat di negara yang garing</td>\n",
       "      <td>1.0</td>\n",
       "      <td>['lagi', 'berusaha', 'sehat', 'di', 'negara', ...</td>\n",
       "      <td>['lagi', 'berusaha', 'sehat', 'di', 'negara', ...</td>\n",
       "    </tr>\n",
       "    <tr>\n",
       "      <th>1800</th>\n",
       "      <td>tolong lah satu alfamart lawan satu indomaret ...</td>\n",
       "      <td>0.0</td>\n",
       "      <td>['tolong', 'lah', 'satu', 'alfamart', 'lawan',...</td>\n",
       "      <td>['tulung', 'lah', 'satu', 'alfamart', 'lawan',...</td>\n",
       "    </tr>\n",
       "    <tr>\n",
       "      <th>1081</th>\n",
       "      <td>kok bisa kaya itu</td>\n",
       "      <td>0.0</td>\n",
       "      <td>['kok', 'bisa', 'kaya', 'itu']</td>\n",
       "      <td>['kok', 'bisa', 'kaya', 'itu']</td>\n",
       "    </tr>\n",
       "    <tr>\n",
       "      <th>8230</th>\n",
       "      <td>menyupani</td>\n",
       "      <td>1.0</td>\n",
       "      <td>['menyupani']</td>\n",
       "      <td>['menyupani']</td>\n",
       "    </tr>\n",
       "  </tbody>\n",
       "</table>\n",
       "</div>"
      ],
      "text/plain": [
       "                                                   text  label  \\\n",
       "4004                             kalu katulahan ling ae    0.0   \n",
       "9121          lagi berusaha sehat di negara yang garing    1.0   \n",
       "1800  tolong lah satu alfamart lawan satu indomaret ...    0.0   \n",
       "1081                                 kok bisa kaya itu     0.0   \n",
       "8230                                          menyupani    1.0   \n",
       "\n",
       "                                               non_norm  \\\n",
       "4004                ['kalu', 'katulahan', 'ling', 'ae']   \n",
       "9121  ['lagi', 'berusaha', 'sehat', 'di', 'negara', ...   \n",
       "1800  ['tolong', 'lah', 'satu', 'alfamart', 'lawan',...   \n",
       "1081                     ['kok', 'bisa', 'kaya', 'itu']   \n",
       "8230                                      ['menyupani']   \n",
       "\n",
       "                                                   norm  \n",
       "4004                ['kalu', 'katulahan', 'ling', 'ai']  \n",
       "9121  ['lagi', 'berusaha', 'sehat', 'di', 'negara', ...  \n",
       "1800  ['tulung', 'lah', 'satu', 'alfamart', 'lawan',...  \n",
       "1081                     ['kok', 'bisa', 'kaya', 'itu']  \n",
       "8230                                      ['menyupani']  "
      ]
     },
     "execution_count": 35,
     "metadata": {},
     "output_type": "execute_result"
    }
   ],
   "source": [
    "train_data.head()"
   ]
  },
  {
   "cell_type": "markdown",
   "metadata": {},
   "source": [
    "Processed using only tokenize, belum normalize data"
   ]
  },
  {
   "cell_type": "code",
   "execution_count": 36,
   "metadata": {},
   "outputs": [],
   "source": [
    "def process_data(train_data, test_data, text_column, label_column, tokenizer_path='tokenizer.pickle'):\n",
    "    tokenizer = Tokenizer()\n",
    "    tokenizer.fit_on_texts(train_data[text_column])\n",
    "    \n",
    "    # Convert texts to sequences\n",
    "    x_train_sequences = tokenizer.texts_to_sequences(train_data[text_column])\n",
    "    x_test_sequences = tokenizer.texts_to_sequences(test_data[text_column])\n",
    "    \n",
    "    # Pad the sequences to ensure equal length\n",
    "    x_train = pad_sequences(x_train_sequences, maxlen=50)\n",
    "    x_test = pad_sequences(x_test_sequences, maxlen=50)\n",
    "    \n",
    "    y_train = np.array(train_data[label_column])\n",
    "    y_test = np.array(test_data[label_column])\n",
    "    \n",
    "    # Save the tokenizer\n",
    "    with open(tokenizer_path, 'wb') as handle:\n",
    "        pickle.dump(tokenizer, handle, protocol=pickle.HIGHEST_PROTOCOL)\n",
    "    \n",
    "    return x_train, x_test, y_train, y_test"
   ]
  },
  {
   "cell_type": "code",
   "execution_count": 37,
   "metadata": {},
   "outputs": [],
   "source": [
    "x_train1, x_test1, y_train1, y_test1 = process_data(train_data1, test_data1, 'norm', 'label', tokenizer_path='tokenizer_norm.pickle')"
   ]
  },
  {
   "cell_type": "code",
   "execution_count": 38,
   "metadata": {},
   "outputs": [],
   "source": [
    "x_train2, x_test2, y_train2, y_test2 = process_data(train_data2, test_data2, 'non_norm', 'label', tokenizer_path='tokenizer_non_norm.pickle')"
   ]
  },
  {
   "cell_type": "markdown",
   "metadata": {},
   "source": [
    "### model"
   ]
  },
  {
   "cell_type": "code",
   "execution_count": 22,
   "metadata": {},
   "outputs": [],
   "source": [
    "class Attention(Layer):\n",
    "    def __init__(self, regularizer=None, **kwargs):\n",
    "        super(Attention, self).__init__(**kwargs)\n",
    "        self.regularizer = regularizer\n",
    "\n",
    "    def build(self, input_shape):\n",
    "        self.W = self.add_weight(name='attention_weight', \n",
    "                                 shape=(input_shape[-1], input_shape[-1]), \n",
    "                                 initializer='glorot_uniform', \n",
    "                                 trainable=True, \n",
    "                                 regularizer=self.regularizer)\n",
    "        self.b = self.add_weight(name='attention_bias', \n",
    "                                 shape=(input_shape[-1],), \n",
    "                                 initializer='zeros', \n",
    "                                 trainable=True, \n",
    "                                 regularizer=self.regularizer)\n",
    "        super(Attention, self).build(input_shape)\n",
    "\n",
    "    def call(self, x):\n",
    "        e = tf.nn.tanh(tf.tensordot(x, self.W, axes=1) + self.b)\n",
    "        a = tf.nn.softmax(e, axis=1)\n",
    "        output = tf.reduce_sum(x * a, axis=1)\n",
    "        return output\n",
    "\n",
    "    def get_config(self):\n",
    "        config = super(Attention, self).get_config()\n",
    "        config.update({\"regularizer\": self.regularizer})\n",
    "        return config\n",
    "\n",
    "\n",
    "def get_bilstm_model(vocab_size, input_length, num_features, lstm_units=[32,16], dropout=0.2, recurrent_dropout=0.2, embeddings_weight=None, weight_trainable=True):\n",
    "    model = Sequential()\n",
    "    if embeddings_weight is not None:\n",
    "        model.add(Embedding(vocab_size,\n",
    "                            num_features,\n",
    "                            input_length=input_length,\n",
    "                            weights=[embeddings_weight],\n",
    "                            trainable=weight_trainable))\n",
    "    else:\n",
    "        model.add(Embedding(vocab_size, num_features, input_length=input_length))\n",
    "    model.add(Dropout(0.4))\n",
    "    model.add(Bidirectional(LSTM(lstm_units[0], return_sequences=True, dropout=dropout, recurrent_dropout=recurrent_dropout)))\n",
    "    model.add(Bidirectional(LSTM(lstm_units[1], return_sequences=True, dropout=dropout, recurrent_dropout=recurrent_dropout)))\n",
    "    model.add(Attention(regularizer=regularizers.l2(0.7)))\n",
    "    model.add(ReLU())\n",
    "    model.add(Dropout(0.2))\n",
    "    model.add(Dense(1, activation=\"sigmoid\"))\n",
    "    model.compile(loss=\"binary_crossentropy\", optimizer=\"adam\", metrics=[\"accuracy\"])\n",
    "    model.summary()\n",
    "    return model"
   ]
  },
  {
   "cell_type": "markdown",
   "metadata": {},
   "source": [
    "## training"
   ]
  },
  {
   "cell_type": "markdown",
   "metadata": {},
   "source": [
    "### model training"
   ]
  },
  {
   "cell_type": "code",
   "execution_count": 23,
   "metadata": {},
   "outputs": [],
   "source": [
    "def train_model(model, x_train, y_train, x_test, y_test, x_val=None, y_val=None, set_batch_size=64, num_epochs=6, verbose=False, scale_loss=False):\n",
    "\n",
    "    # Stop if the model overfits...\n",
    "    stop = EarlyStopping(\n",
    "        monitor='val_accuracy',\n",
    "        mode='max',\n",
    "        patience=5\n",
    "    )\n",
    "    # Save model logs during training to the specific folder\n",
    "    checkpoint= ModelCheckpoint(\n",
    "        filepath='./',\n",
    "        save_weights_only=True,\n",
    "        monitor='val_accuracy',\n",
    "        mode='max',\n",
    "        save_best_only=True\n",
    "    )\n",
    "\n",
    "    # Lets specify some weights for our class function\n",
    "    # since the dataset is not really balanced and may cause overfitting\n",
    "    class_weights = None\n",
    "    if scale_loss is True:\n",
    "        pass;\n",
    "\n",
    "    # training the model\n",
    "    history = model.fit(x_train,\n",
    "                        y_train,\n",
    "                        validation_split=0.2,\n",
    "                        class_weight=class_weights,\n",
    "                        epochs=num_epochs,\n",
    "                        batch_size=set_batch_size,\n",
    "                        callbacks=[tensorboard_callback, stop, checkpoint])\n",
    "    # Visualizing training accuracy and loss per epoch to eliminate the potential threat of overfitting\n",
    "    plt.figure(figsize=(12, 4))\n",
    "    plt.subplot(1, 2, 1)\n",
    "    plt.plot(np.arange(len(history.history['accuracy'])), history.history['accuracy'], 'b', label='training acc')\n",
    "    plt.plot(np.arange(len(history.history['accuracy'])), history.history['val_accuracy'], 'c', label='val acc')\n",
    "    plt.title('Accuracy Plot')\n",
    "    plt.ylabel('Accuracy')\n",
    "    plt.xlabel('Epochs')\n",
    "    plt.legend(loc='best')\n",
    "    plt.subplot(1, 2, 2)\n",
    "    plt.plot(np.arange(len(history.history['accuracy'])), history.history['loss'], 'r', label='training loss')\n",
    "    plt.plot(np.arange(len(history.history['accuracy'])), history.history['val_loss'], 'g', label='val loss')\n",
    "    plt.legend(loc='best')\n",
    "    plt.title('Loss Plot')\n",
    "    plt.ylabel('Error/Loss')\n",
    "    plt.xlabel('Epochs')\n",
    "    plt.show()\n",
    "    # train accuracy\n",
    "    train_acc = model.evaluate(x_train, y_train)\n",
    "    # Evaluate the model on the test set and check the accuracy\n",
    "    evaluation = model.evaluate(x_test, y_test)\n",
    "    # predicting and getting accuracy\n",
    "    y_pred = model.predict(x_test)\n",
    "    y_pred = (y_pred > 0.5)\n",
    "    # y_pred = [1 if prob==True else 0 for prob in y_pred]\n",
    "    print(classification_report(y_test, y_pred))\n",
    "    precision_bi, recall_bi, fscore_bi, support_bi = precision_recall_fscore_support(y_test, y_pred)\n",
    "    print('\\nAccuracy', accuracy_score(y_test,y_pred))\n",
    "    print('BiLSTM: non hate - hate')\n",
    "    print('precision: {}'.format(precision_bi))\n",
    "    print('recall: {}'.format(recall_bi))\n",
    "    print('fscore: {}'.format(fscore_bi))\n",
    "    print('support: {}'.format(support_bi))\n",
    "    # getting confusion matrix\n",
    "    print('\\nConfusion Matrix: \\n', confusion_matrix(y_test,y_pred))\n",
    "    if verbose == True:\n",
    "        # Only open tensorboard if specified so\n",
    "        %load_ext tensorboard\n",
    "        %tensorboard --logdir logs\n",
    "    return model, history"
   ]
  },
  {
   "cell_type": "markdown",
   "metadata": {},
   "source": [
    "### word embedd"
   ]
  },
  {
   "cell_type": "code",
   "execution_count": 39,
   "metadata": {},
   "outputs": [],
   "source": [
    "# from string import punctuation\n",
    "# from collections import defaultdict\n",
    "def get_vocab(data):\n",
    "    # Processing\n",
    "    vocab, reverse_vocab = {}, {}\n",
    "    freq = defaultdict(int)\n",
    "    vocab_index = 1\n",
    "    for text in data:\n",
    "        for word in text:\n",
    "            if word not in vocab:\n",
    "                vocab[word] = vocab_index\n",
    "                reverse_vocab[vocab_index] = word       # generate reverse vocab as well\n",
    "                vocab_index += 1\n",
    "            freq[word] += 1\n",
    "    vocab['UNK'] = len(vocab) + 1\n",
    "    reverse_vocab[len(vocab)] = 'UNK'\n",
    "    return vocab, reverse_vocab, freq"
   ]
  },
  {
   "cell_type": "markdown",
   "metadata": {},
   "source": [
    "### embedding normalisasi"
   ]
  },
  {
   "cell_type": "code",
   "execution_count": 40,
   "metadata": {},
   "outputs": [],
   "source": [
    "vocabulary1, reverse_vocabulary1, frequencies1 = get_vocab(train_data['norm'])"
   ]
  },
  {
   "cell_type": "code",
   "execution_count": 41,
   "metadata": {},
   "outputs": [
    {
     "name": "stdout",
     "output_type": "stream",
     "text": [
      "Vocabulary Size:  14830\n"
     ]
    }
   ],
   "source": [
    "# define training data\n",
    "sentences1 = train_data['norm'].apply(str.split).tolist()  # memastikan kalimat dalam bentuk daftar kata\n",
    "\n",
    "# train model\n",
    "w2v_model1 = Word2Vec(sentences1, vector_size=64, window=4, min_count=1, sg=1)\n",
    "\n",
    "# Define our vocabulary as words\n",
    "words1 = list(w2v_model1.wv.index_to_key)\n",
    "vocab_size1 = len(words1)\n",
    "print('Vocabulary Size: ', vocab_size1)\n",
    "\n",
    "# Define our embedding matrix to be set as weight of the w2v_model Embedding Layer\n",
    "embedding_matrix1 = np.zeros((vocab_size1, 64))\n",
    "for i in range(0, len(words1)):\n",
    "    embedding_vector1 = w2v_model1.wv[words1[i]]\n",
    "    if embedding_vector1 is not None:\n",
    "        embedding_matrix1[i] = embedding_vector1\n",
    "\n",
    "# Add random vectors for padding (if necessary)\n",
    "embedding_matrix1[vocab_size1-1] = np.random.normal(scale=0.6, size=(64,))"
   ]
  },
  {
   "cell_type": "markdown",
   "metadata": {},
   "source": [
    "### embedding non-normalisasi"
   ]
  },
  {
   "cell_type": "code",
   "execution_count": 42,
   "metadata": {},
   "outputs": [],
   "source": [
    "vocabulary2, reverse_vocabulary2, frequencies2 = get_vocab(train_data['non_norm'])"
   ]
  },
  {
   "cell_type": "code",
   "execution_count": 43,
   "metadata": {},
   "outputs": [
    {
     "name": "stdout",
     "output_type": "stream",
     "text": [
      "Vocabulary Size:  14929\n"
     ]
    }
   ],
   "source": [
    "# define training data\n",
    "sentences2 = train_data['non_norm'].apply(str.split).tolist()  # memastikan kalimat dalam bentuk daftar kata\n",
    "\n",
    "# train model\n",
    "w2v_model2 = Word2Vec(sentences2, vector_size=64, window=4, min_count=1, sg=1)\n",
    "\n",
    "# Define our vocabulary as words\n",
    "words2 = list(w2v_model2.wv.index_to_key)\n",
    "vocab_size2 = len(words2)\n",
    "print('Vocabulary Size: ', vocab_size2)\n",
    "\n",
    "# Define our embedding matrix to be set as weight of the w2v_model Embedding Layer\n",
    "embedding_matrix2 = np.zeros((vocab_size2, 64))\n",
    "for i in range(0, len(words2)):\n",
    "    embedding_vector2 = w2v_model2.wv[words2[i]]\n",
    "    if embedding_vector2 is not None:\n",
    "        embedding_matrix2[i] = embedding_vector2\n",
    "\n",
    "# Add random vectors for padding (if necessary)\n",
    "embedding_matrix2[vocab_size2-1] = np.random.normal(scale=0.6, size=(64,))"
   ]
  },
  {
   "cell_type": "markdown",
   "metadata": {},
   "source": [
    "### Training"
   ]
  },
  {
   "cell_type": "code",
   "execution_count": 44,
   "metadata": {},
   "outputs": [
    {
     "name": "stdout",
     "output_type": "stream",
     "text": [
      "Model: \"sequential_2\"\n",
      "_________________________________________________________________\n",
      " Layer (type)                Output Shape              Param #   \n",
      "=================================================================\n",
      " embedding_2 (Embedding)     (None, 50, 64)            949120    \n",
      "                                                                 \n",
      " dropout_4 (Dropout)         (None, 50, 64)            0         \n",
      "                                                                 \n",
      " bidirectional_4 (Bidirecti  (None, 50, 128)           66048     \n",
      " onal)                                                           \n",
      "                                                                 \n",
      " bidirectional_5 (Bidirecti  (None, 50, 64)            41216     \n",
      " onal)                                                           \n",
      "                                                                 \n",
      " attention_2 (Attention)     (None, 64)                4160      \n",
      "                                                                 \n",
      " re_lu_2 (ReLU)              (None, 64)                0         \n",
      "                                                                 \n",
      " dropout_5 (Dropout)         (None, 64)                0         \n",
      "                                                                 \n",
      " dense_2 (Dense)             (None, 1)                 65        \n",
      "                                                                 \n",
      "=================================================================\n",
      "Total params: 1060609 (4.05 MB)\n",
      "Trainable params: 1060609 (4.05 MB)\n",
      "Non-trainable params: 0 (0.00 Byte)\n",
      "_________________________________________________________________\n"
     ]
    }
   ],
   "source": [
    "bilstm_model1 = get_bilstm_model(vocab_size1, 50, 64, [64, 32], dropout=0.2, recurrent_dropout=0.2, embeddings_weight=embedding_matrix1, weight_trainable=True)"
   ]
  },
  {
   "cell_type": "code",
   "execution_count": 45,
   "metadata": {},
   "outputs": [
    {
     "name": "stdout",
     "output_type": "stream",
     "text": [
      "Epoch 1/8\n",
      "100/100 [==============================] - 98s 829ms/step - loss: 24.0460 - accuracy: 0.5053 - val_loss: 10.0439 - val_accuracy: 0.5275\n",
      "Epoch 2/8\n",
      "100/100 [==============================] - 76s 763ms/step - loss: 5.1143 - accuracy: 0.5231 - val_loss: 2.1815 - val_accuracy: 0.5487\n",
      "Epoch 3/8\n",
      "100/100 [==============================] - 75s 751ms/step - loss: 1.2603 - accuracy: 0.6406 - val_loss: 0.6583 - val_accuracy: 0.7631\n",
      "Epoch 4/8\n",
      "100/100 [==============================] - 74s 745ms/step - loss: 0.4090 - accuracy: 0.8633 - val_loss: 0.3799 - val_accuracy: 0.8562\n",
      "Epoch 5/8\n",
      "100/100 [==============================] - 75s 753ms/step - loss: 0.2302 - accuracy: 0.9169 - val_loss: 0.3957 - val_accuracy: 0.8425\n",
      "Epoch 6/8\n",
      "100/100 [==============================] - 76s 766ms/step - loss: 0.1618 - accuracy: 0.9417 - val_loss: 0.3643 - val_accuracy: 0.8644\n",
      "Epoch 7/8\n",
      "100/100 [==============================] - 76s 756ms/step - loss: 0.1185 - accuracy: 0.9619 - val_loss: 0.3685 - val_accuracy: 0.8687\n",
      "Epoch 8/8\n",
      "100/100 [==============================] - 75s 754ms/step - loss: 0.0908 - accuracy: 0.9708 - val_loss: 0.4107 - val_accuracy: 0.8750\n"
     ]
    },
    {
     "data": {
      "image/png": "[encoded data removed]",
      "text/plain": [
       "<Figure size 1200x400 with 2 Axes>"
      ]
     },
     "metadata": {},
     "output_type": "display_data"
    },
    {
     "name": "stdout",
     "output_type": "stream",
     "text": [
      "250/250 [==============================] - 10s 31ms/step - loss: 0.1163 - accuracy: 0.9650\n",
      "63/63 [==============================] - 2s 28ms/step - loss: 0.4010 - accuracy: 0.8765\n",
      "63/63 [==============================] - 4s 29ms/step\n",
      "              precision    recall  f1-score   support\n",
      "\n",
      "         0.0       0.86      0.90      0.88      1012\n",
      "         1.0       0.89      0.86      0.87       988\n",
      "\n",
      "    accuracy                           0.88      2000\n",
      "   macro avg       0.88      0.88      0.88      2000\n",
      "weighted avg       0.88      0.88      0.88      2000\n",
      "\n",
      "\n",
      "Accuracy 0.8765\n",
      "BiLSTM: non hate - hate\n",
      "precision: [0.86463298 0.88958991]\n",
      "recall: [0.89624506 0.8562753 ]\n",
      "fscore: [0.88015526 0.87261475]\n",
      "support: [1012  988]\n",
      "\n",
      "Confusion Matrix: \n",
      " [[907 105]\n",
      " [142 846]]\n",
      "The tensorboard extension is already loaded. To reload it, use:\n",
      "  %reload_ext tensorboard\n"
     ]
    },
    {
     "data": {
      "text/plain": [
       "Reusing TensorBoard on port 6006 (pid 10672), started 0:14:52 ago. (Use '!kill 10672' to kill it.)"
      ]
     },
     "metadata": {},
     "output_type": "display_data"
    },
    {
     "data": {
      "text/html": [
       "\n",
       "      <iframe id=\"tensorboard-frame-5bfcd5b52b39e6cf\" width=\"100%\" height=\"800\" frameborder=\"0\">\n",
       "      </iframe>\n",
       "      <script>\n",
       "        (function() {\n",
       "          const frame = document.getElementById(\"tensorboard-frame-5bfcd5b52b39e6cf\");\n",
       "          const url = new URL(\"http://localhost\");\n",
       "          const port = 6006;\n",
       "          if (port) {\n",
       "            url.port = port;\n",
       "          }\n",
       "          frame.src = url;\n",
       "        })();\n",
       "      </script>\n",
       "    "
      ],
      "text/plain": [
       "<IPython.core.display.HTML object>"
      ]
     },
     "metadata": {},
     "output_type": "display_data"
    }
   ],
   "source": [
    "trained_model1, history1 = train_model(bilstm_model1, x_train1, y_train1, x_test1, y_test1, num_epochs=8, set_batch_size=64, verbose=True)"
   ]
  },
  {
   "cell_type": "code",
   "execution_count": 46,
   "metadata": {},
   "outputs": [
    {
     "name": "stdout",
     "output_type": "stream",
     "text": [
      "Model: \"sequential_3\"\n",
      "_________________________________________________________________\n",
      " Layer (type)                Output Shape              Param #   \n",
      "=================================================================\n",
      " embedding_3 (Embedding)     (None, 50, 64)            955456    \n",
      "                                                                 \n",
      " dropout_6 (Dropout)         (None, 50, 64)            0         \n",
      "                                                                 \n",
      " bidirectional_6 (Bidirecti  (None, 50, 128)           66048     \n",
      " onal)                                                           \n",
      "                                                                 \n",
      " bidirectional_7 (Bidirecti  (None, 50, 64)            41216     \n",
      " onal)                                                           \n",
      "                                                                 \n",
      " attention_3 (Attention)     (None, 64)                4160      \n",
      "                                                                 \n",
      " re_lu_3 (ReLU)              (None, 64)                0         \n",
      "                                                                 \n",
      " dropout_7 (Dropout)         (None, 64)                0         \n",
      "                                                                 \n",
      " dense_3 (Dense)             (None, 1)                 65        \n",
      "                                                                 \n",
      "=================================================================\n",
      "Total params: 1066945 (4.07 MB)\n",
      "Trainable params: 1066945 (4.07 MB)\n",
      "Non-trainable params: 0 (0.00 Byte)\n",
      "_________________________________________________________________\n"
     ]
    }
   ],
   "source": [
    "bilstm_model2 = get_bilstm_model(vocab_size2, 50, 64, [64, 32], dropout=0.2, recurrent_dropout=0.2, embeddings_weight=embedding_matrix2, weight_trainable=True)"
   ]
  },
  {
   "cell_type": "code",
   "execution_count": 47,
   "metadata": {},
   "outputs": [
    {
     "name": "stdout",
     "output_type": "stream",
     "text": [
      "Epoch 1/8\n",
      "100/100 [==============================] - 88s 743ms/step - loss: 24.2344 - accuracy: 0.5138 - val_loss: 10.1975 - val_accuracy: 0.5038\n",
      "Epoch 2/8\n",
      "100/100 [==============================] - 73s 727ms/step - loss: 5.1845 - accuracy: 0.5758 - val_loss: 2.1831 - val_accuracy: 0.6212\n",
      "Epoch 3/8\n",
      "100/100 [==============================] - 76s 764ms/step - loss: 1.2645 - accuracy: 0.6809 - val_loss: 0.7074 - val_accuracy: 0.7788\n",
      "Epoch 4/8\n",
      "100/100 [==============================] - 70s 704ms/step - loss: 0.5940 - accuracy: 0.7655 - val_loss: 0.5056 - val_accuracy: 0.7937\n",
      "Epoch 5/8\n",
      "100/100 [==============================] - 74s 741ms/step - loss: 0.4716 - accuracy: 0.7819 - val_loss: 0.4524 - val_accuracy: 0.7806\n",
      "Epoch 6/8\n",
      "100/100 [==============================] - 74s 743ms/step - loss: 0.3779 - accuracy: 0.8344 - val_loss: 0.4791 - val_accuracy: 0.8056\n",
      "Epoch 7/8\n",
      "100/100 [==============================] - 73s 733ms/step - loss: 0.2660 - accuracy: 0.8955 - val_loss: 0.4248 - val_accuracy: 0.8350\n",
      "Epoch 8/8\n",
      "100/100 [==============================] - 73s 733ms/step - loss: 0.2179 - accuracy: 0.9205 - val_loss: 0.4070 - val_accuracy: 0.8556\n"
     ]
    },
    {
     "data": {
      "image/png": "[encoded data removed]",
      "text/plain": [
       "<Figure size 1200x400 with 2 Axes>"
      ]
     },
     "metadata": {},
     "output_type": "display_data"
    },
    {
     "name": "stdout",
     "output_type": "stream",
     "text": [
      "250/250 [==============================] - 30s 107ms/step - loss: 0.1819 - accuracy: 0.9419\n",
      "63/63 [==============================] - 7s 107ms/step - loss: 0.3987 - accuracy: 0.8525\n",
      "63/63 [==============================] - 9s 110ms/step\n",
      "              precision    recall  f1-score   support\n",
      "\n",
      "         0.0       0.86      0.85      0.85      1012\n",
      "         1.0       0.85      0.86      0.85       988\n",
      "\n",
      "    accuracy                           0.85      2000\n",
      "   macro avg       0.85      0.85      0.85      2000\n",
      "weighted avg       0.85      0.85      0.85      2000\n",
      "\n",
      "\n",
      "Accuracy 0.8525\n",
      "BiLSTM: non hate - hate\n",
      "precision: [0.85885886 0.84615385]\n",
      "recall: [0.84782609 0.85728745]\n",
      "fscore: [0.85330681 0.85168426]\n",
      "support: [1012  988]\n",
      "\n",
      "Confusion Matrix: \n",
      " [[858 154]\n",
      " [141 847]]\n",
      "The tensorboard extension is already loaded. To reload it, use:\n",
      "  %reload_ext tensorboard\n"
     ]
    },
    {
     "data": {
      "text/plain": [
       "Reusing TensorBoard on port 6006 (pid 10672), started 0:25:42 ago. (Use '!kill 10672' to kill it.)"
      ]
     },
     "metadata": {},
     "output_type": "display_data"
    },
    {
     "data": {
      "text/html": [
       "\n",
       "      <iframe id=\"tensorboard-frame-f6e1f49b70155101\" width=\"100%\" height=\"800\" frameborder=\"0\">\n",
       "      </iframe>\n",
       "      <script>\n",
       "        (function() {\n",
       "          const frame = document.getElementById(\"tensorboard-frame-f6e1f49b70155101\");\n",
       "          const url = new URL(\"http://localhost\");\n",
       "          const port = 6006;\n",
       "          if (port) {\n",
       "            url.port = port;\n",
       "          }\n",
       "          frame.src = url;\n",
       "        })();\n",
       "      </script>\n",
       "    "
      ],
      "text/plain": [
       "<IPython.core.display.HTML object>"
      ]
     },
     "metadata": {},
     "output_type": "display_data"
    }
   ],
   "source": [
    "trained_model2, history2 = train_model(bilstm_model2, x_train2, y_train2, x_test2, y_test2, num_epochs=8, set_batch_size=64, verbose=True)"
   ]
  },
  {
   "cell_type": "markdown",
   "metadata": {},
   "source": [
    "### check"
   ]
  },
  {
   "cell_type": "code",
   "execution_count": 59,
   "metadata": {},
   "outputs": [],
   "source": [
    "def convert_to_text(tokenizer, sequences):\n",
    "    # Convert sequences back to text\n",
    "    reverse_word_index = {index: word for word, index in tokenizer.word_index.items()}\n",
    "    text_sequences = []\n",
    "    for sequence in sequences:\n",
    "        text_sequence = ' '.join([reverse_word_index.get(word, '') for word in sequence if word != 0])\n",
    "        text_sequences.append(text_sequence)\n",
    "    return text_sequences\n",
    "\n",
    "# Assuming you have the tokenizer loaded from the pickle file\n",
    "with open('tokenizer_norm.pickle', 'rb') as handle:\n",
    "    loaded_tokenizer = pickle.load(handle)\n",
    "\n",
    "# Convert x_test back to text\n",
    "x_test_text = convert_to_text(loaded_tokenizer, x_test1)"
   ]
  },
  {
   "cell_type": "code",
   "execution_count": 49,
   "metadata": {},
   "outputs": [
    {
     "data": {
      "text/plain": [
       "[\"'sariki' 'pak' 'ai' 'mahir' 'gawian' 'asal' 'asalan' 'asal' 'tuntung' 'dananya' 'milyaran' 'ditelusuri' 'kamana' 'dananya' 'nang' 'banyak' 'tuh' 'mangalir' 'pariksa' 'buhan' 'pihak' 'terkait' 'jangan' 'jangan' 'diambil' 'ngalihai' 'mun' 'masalah' 'duit' 'milyaran' 'nang' 'ini' 'habang' 'hijau' 'mata' 'malihat'\",\n",
       " \"'asa' 'sedih' 'hati' 'malihat' 'bapa' 'ibu' 'nang' 'ikut' 'serta' 'pembangunan' 'masih' 'haja' 'kada' 'kawa' 'nukar' 'baras'\",\n",
       " \"'korupsi'\",\n",
       " \"'amun' 'puasa' 'kadada' 'cobaanya' 'kaya' 'apa' 'handak' 'dapat' 'pahala' 'tambahan' 'wey'\",\n",
       " \"'sarik' 'banaran' 'sidin' 'debest' 'dah' 'pian' 'pak' 'ay' 'selalu' 'jadi' 'favorit' 'ulun'\"]"
      ]
     },
     "execution_count": 49,
     "metadata": {},
     "output_type": "execute_result"
    }
   ],
   "source": [
    "x_test_text[:5]"
   ]
  },
  {
   "cell_type": "code",
   "execution_count": 60,
   "metadata": {},
   "outputs": [
    {
     "name": "stdout",
     "output_type": "stream",
     "text": [
      "63/63 [==============================] - 1s 15ms/step\n"
     ]
    }
   ],
   "source": [
    "# buat dataframe dari x_test1 dan y_test1\n",
    "pred = pd.DataFrame(x_test_text, columns=['text'])\n",
    "pred['label'] = y_test1\n",
    "pred['label_pred'] = trained_model9.predict(x_test1)"
   ]
  },
  {
   "cell_type": "code",
   "execution_count": 51,
   "metadata": {},
   "outputs": [
    {
     "data": {
      "text/html": [
       "<div>\n",
       "<style scoped>\n",
       "    .dataframe tbody tr th:only-of-type {\n",
       "        vertical-align: middle;\n",
       "    }\n",
       "\n",
       "    .dataframe tbody tr th {\n",
       "        vertical-align: top;\n",
       "    }\n",
       "\n",
       "    .dataframe thead th {\n",
       "        text-align: right;\n",
       "    }\n",
       "</style>\n",
       "<table border=\"1\" class=\"dataframe\">\n",
       "  <thead>\n",
       "    <tr style=\"text-align: right;\">\n",
       "      <th></th>\n",
       "      <th>text</th>\n",
       "      <th>label</th>\n",
       "      <th>label_pred</th>\n",
       "    </tr>\n",
       "  </thead>\n",
       "  <tbody>\n",
       "    <tr>\n",
       "      <th>0</th>\n",
       "      <td>'sariki' 'pak' 'ai' 'mahir' 'gawian' 'asal' 'a...</td>\n",
       "      <td>1.0</td>\n",
       "      <td>0.961074</td>\n",
       "    </tr>\n",
       "    <tr>\n",
       "      <th>1</th>\n",
       "      <td>'asa' 'sedih' 'hati' 'malihat' 'bapa' 'ibu' 'n...</td>\n",
       "      <td>0.0</td>\n",
       "      <td>0.010862</td>\n",
       "    </tr>\n",
       "    <tr>\n",
       "      <th>2</th>\n",
       "      <td>'korupsi'</td>\n",
       "      <td>0.0</td>\n",
       "      <td>0.237784</td>\n",
       "    </tr>\n",
       "    <tr>\n",
       "      <th>3</th>\n",
       "      <td>'amun' 'puasa' 'kadada' 'cobaanya' 'kaya' 'apa...</td>\n",
       "      <td>0.0</td>\n",
       "      <td>0.022250</td>\n",
       "    </tr>\n",
       "    <tr>\n",
       "      <th>4</th>\n",
       "      <td>'sarik' 'banaran' 'sidin' 'debest' 'dah' 'pian...</td>\n",
       "      <td>0.0</td>\n",
       "      <td>0.011855</td>\n",
       "    </tr>\n",
       "  </tbody>\n",
       "</table>\n",
       "</div>"
      ],
      "text/plain": [
       "                                                text  label  label_pred\n",
       "0  'sariki' 'pak' 'ai' 'mahir' 'gawian' 'asal' 'a...    1.0    0.961074\n",
       "1  'asa' 'sedih' 'hati' 'malihat' 'bapa' 'ibu' 'n...    0.0    0.010862\n",
       "2                                          'korupsi'    0.0    0.237784\n",
       "3  'amun' 'puasa' 'kadada' 'cobaanya' 'kaya' 'apa...    0.0    0.022250\n",
       "4  'sarik' 'banaran' 'sidin' 'debest' 'dah' 'pian...    0.0    0.011855"
      ]
     },
     "execution_count": 51,
     "metadata": {},
     "output_type": "execute_result"
    }
   ],
   "source": [
    "pred.head()"
   ]
  },
  {
   "cell_type": "code",
   "execution_count": 61,
   "metadata": {},
   "outputs": [],
   "source": [
    "pred['label_pred'] = pred['label_pred'].apply(lambda x: 1 if x >= 0.5 else 0)"
   ]
  },
  {
   "cell_type": "code",
   "execution_count": 62,
   "metadata": {},
   "outputs": [],
   "source": [
    "pred.to_csv(r'C:\\Data\\KULIAH\\skripsi\\model\\eksperimen\\fix\\prediksi_norm.csv', index=False)"
   ]
  },
  {
   "cell_type": "code",
   "execution_count": 63,
   "metadata": {},
   "outputs": [],
   "source": [
    "# Assuming you have the tokenizer loaded from the pickle file\n",
    "with open('tokenizer.pickle', 'rb') as handle:\n",
    "    loaded_tokenizer2 = pickle.load(handle)\n",
    "\n",
    "# Convert x_test back to text\n",
    "x_test_nonnorm_text = convert_to_text(loaded_tokenizer2, x_test2)"
   ]
  },
  {
   "cell_type": "code",
   "execution_count": 64,
   "metadata": {},
   "outputs": [
    {
     "name": "stdout",
     "output_type": "stream",
     "text": [
      "63/63 [==============================] - 1s 16ms/step\n"
     ]
    }
   ],
   "source": [
    "pred2 = pd.DataFrame(x_test_nonnorm_text, columns=['text'])\n",
    "pred2['label'] = y_test2\n",
    "pred2['label_pred'] = trained_model10.predict(x_test2)\n",
    "pred2['label_pred'] = pred2['label_pred'].apply(lambda x: 1 if x >= 0.5 else 0)"
   ]
  },
  {
   "cell_type": "code",
   "execution_count": 65,
   "metadata": {},
   "outputs": [
    {
     "data": {
      "text/html": [
       "<div>\n",
       "<style scoped>\n",
       "    .dataframe tbody tr th:only-of-type {\n",
       "        vertical-align: middle;\n",
       "    }\n",
       "\n",
       "    .dataframe tbody tr th {\n",
       "        vertical-align: top;\n",
       "    }\n",
       "\n",
       "    .dataframe thead th {\n",
       "        text-align: right;\n",
       "    }\n",
       "</style>\n",
       "<table border=\"1\" class=\"dataframe\">\n",
       "  <thead>\n",
       "    <tr style=\"text-align: right;\">\n",
       "      <th></th>\n",
       "      <th>text</th>\n",
       "      <th>label</th>\n",
       "      <th>label_pred</th>\n",
       "    </tr>\n",
       "  </thead>\n",
       "  <tbody>\n",
       "    <tr>\n",
       "      <th>0</th>\n",
       "      <td>'sariki' 'pak' 'ai' 'mahir' 'gawian' 'asal' 'a...</td>\n",
       "      <td>1.0</td>\n",
       "      <td>1</td>\n",
       "    </tr>\n",
       "    <tr>\n",
       "      <th>1</th>\n",
       "      <td>'asa' 'sedih' 'hati' 'malihat' 'bapa' 'ibu' 'n...</td>\n",
       "      <td>0.0</td>\n",
       "      <td>0</td>\n",
       "    </tr>\n",
       "    <tr>\n",
       "      <th>2</th>\n",
       "      <td>'korupsi'</td>\n",
       "      <td>0.0</td>\n",
       "      <td>0</td>\n",
       "    </tr>\n",
       "    <tr>\n",
       "      <th>3</th>\n",
       "      <td>'amun' 'puasa' 'kadada' 'cobaanya' 'kaya' 'apa...</td>\n",
       "      <td>0.0</td>\n",
       "      <td>0</td>\n",
       "    </tr>\n",
       "    <tr>\n",
       "      <th>4</th>\n",
       "      <td>'sarik' 'banaran' 'sidin' 'debest' 'dah' 'pian...</td>\n",
       "      <td>0.0</td>\n",
       "      <td>0</td>\n",
       "    </tr>\n",
       "  </tbody>\n",
       "</table>\n",
       "</div>"
      ],
      "text/plain": [
       "                                                text  label  label_pred\n",
       "0  'sariki' 'pak' 'ai' 'mahir' 'gawian' 'asal' 'a...    1.0           1\n",
       "1  'asa' 'sedih' 'hati' 'malihat' 'bapa' 'ibu' 'n...    0.0           0\n",
       "2                                          'korupsi'    0.0           0\n",
       "3  'amun' 'puasa' 'kadada' 'cobaanya' 'kaya' 'apa...    0.0           0\n",
       "4  'sarik' 'banaran' 'sidin' 'debest' 'dah' 'pian...    0.0           0"
      ]
     },
     "execution_count": 65,
     "metadata": {},
     "output_type": "execute_result"
    }
   ],
   "source": [
    "pred2.head()"
   ]
  },
  {
   "cell_type": "code",
   "execution_count": 66,
   "metadata": {},
   "outputs": [],
   "source": [
    "pred2.to_csv(r'C:\\Data\\KULIAH\\skripsi\\model\\eksperimen\\fix\\prediksi_non_norm.csv', index=False)"
   ]
  },
  {
   "cell_type": "markdown",
   "metadata": {},
   "source": [
    "### bagian training"
   ]
  },
  {
   "cell_type": "code",
   "execution_count": 67,
   "metadata": {},
   "outputs": [],
   "source": [
    "x_train_norm_text = convert_to_text(loaded_tokenizer, x_train1)\n",
    "x_train_nonnorm_text = convert_to_text(loaded_tokenizer2, x_train2)"
   ]
  },
  {
   "cell_type": "code",
   "execution_count": 68,
   "metadata": {},
   "outputs": [
    {
     "name": "stdout",
     "output_type": "stream",
     "text": [
      "250/250 [==============================] - 4s 16ms/step\n"
     ]
    }
   ],
   "source": [
    "acc = pd.DataFrame(x_train_norm_text, columns=['text'])\n",
    "acc['label'] = y_train1\n",
    "acc['label_pred'] = trained_model9.predict(x_train1)\n",
    "acc['label_pred'] = acc['label_pred'].apply(lambda x: 1 if x >= 0.5 else 0)\n",
    "acc.to_csv(r'C:\\Data\\KULIAH\\skripsi\\model\\eksperimen\\fix\\acc_norm.csv', index=False)"
   ]
  },
  {
   "cell_type": "code",
   "execution_count": 69,
   "metadata": {},
   "outputs": [
    {
     "data": {
      "text/html": [
       "<div>\n",
       "<style scoped>\n",
       "    .dataframe tbody tr th:only-of-type {\n",
       "        vertical-align: middle;\n",
       "    }\n",
       "\n",
       "    .dataframe tbody tr th {\n",
       "        vertical-align: top;\n",
       "    }\n",
       "\n",
       "    .dataframe thead th {\n",
       "        text-align: right;\n",
       "    }\n",
       "</style>\n",
       "<table border=\"1\" class=\"dataframe\">\n",
       "  <thead>\n",
       "    <tr style=\"text-align: right;\">\n",
       "      <th></th>\n",
       "      <th>text</th>\n",
       "      <th>label</th>\n",
       "      <th>label_pred</th>\n",
       "    </tr>\n",
       "  </thead>\n",
       "  <tbody>\n",
       "    <tr>\n",
       "      <th>0</th>\n",
       "      <td>'kadada' 'gunanya' 'polisi' 'kadada' 'baguna'</td>\n",
       "      <td>1.0</td>\n",
       "      <td>1</td>\n",
       "    </tr>\n",
       "    <tr>\n",
       "      <th>1</th>\n",
       "      <td>'itulah' 'pak' 'negri' 'kita' 'proyeknya' 'di'...</td>\n",
       "      <td>0.0</td>\n",
       "      <td>0</td>\n",
       "    </tr>\n",
       "    <tr>\n",
       "      <th>2</th>\n",
       "      <td>'bagaimana' 'tanggapan' 'pian' 'nang' 'urang' ...</td>\n",
       "      <td>0.0</td>\n",
       "      <td>0</td>\n",
       "    </tr>\n",
       "    <tr>\n",
       "      <th>3</th>\n",
       "      <td>'kakanak' 'babungulan' 'kaini' 'rupanya' 'kaya...</td>\n",
       "      <td>1.0</td>\n",
       "      <td>1</td>\n",
       "    </tr>\n",
       "    <tr>\n",
       "      <th>4</th>\n",
       "      <td>'kanyang' 'sawa' 'dapatnya' 'duit' 'rayat' 'iy...</td>\n",
       "      <td>1.0</td>\n",
       "      <td>1</td>\n",
       "    </tr>\n",
       "  </tbody>\n",
       "</table>\n",
       "</div>"
      ],
      "text/plain": [
       "                                                text  label  label_pred\n",
       "0      'kadada' 'gunanya' 'polisi' 'kadada' 'baguna'    1.0           1\n",
       "1  'itulah' 'pak' 'negri' 'kita' 'proyeknya' 'di'...    0.0           0\n",
       "2  'bagaimana' 'tanggapan' 'pian' 'nang' 'urang' ...    0.0           0\n",
       "3  'kakanak' 'babungulan' 'kaini' 'rupanya' 'kaya...    1.0           1\n",
       "4  'kanyang' 'sawa' 'dapatnya' 'duit' 'rayat' 'iy...    1.0           1"
      ]
     },
     "execution_count": 69,
     "metadata": {},
     "output_type": "execute_result"
    }
   ],
   "source": [
    "acc.head()"
   ]
  },
  {
   "cell_type": "code",
   "execution_count": 70,
   "metadata": {},
   "outputs": [
    {
     "name": "stdout",
     "output_type": "stream",
     "text": [
      "250/250 [==============================] - 4s 16ms/step\n"
     ]
    }
   ],
   "source": [
    "acc2 = pd.DataFrame(x_train_nonnorm_text, columns=['text'])\n",
    "acc2['label'] = y_train2\n",
    "acc2['label_pred'] = trained_model10.predict(x_train2)\n",
    "acc2['label_pred'] = acc2['label_pred'].apply(lambda x: 1 if x >= 0.5 else 0)\n",
    "acc2.to_csv(r'C:\\Data\\KULIAH\\skripsi\\model\\eksperimen\\fix\\acc_non_norm.csv', index=False)"
   ]
  },
  {
   "cell_type": "code",
   "execution_count": 71,
   "metadata": {},
   "outputs": [
    {
     "data": {
      "text/html": [
       "<div>\n",
       "<style scoped>\n",
       "    .dataframe tbody tr th:only-of-type {\n",
       "        vertical-align: middle;\n",
       "    }\n",
       "\n",
       "    .dataframe tbody tr th {\n",
       "        vertical-align: top;\n",
       "    }\n",
       "\n",
       "    .dataframe thead th {\n",
       "        text-align: right;\n",
       "    }\n",
       "</style>\n",
       "<table border=\"1\" class=\"dataframe\">\n",
       "  <thead>\n",
       "    <tr style=\"text-align: right;\">\n",
       "      <th></th>\n",
       "      <th>text</th>\n",
       "      <th>label</th>\n",
       "      <th>label_pred</th>\n",
       "    </tr>\n",
       "  </thead>\n",
       "  <tbody>\n",
       "    <tr>\n",
       "      <th>0</th>\n",
       "      <td>'kadada' 'gunanya' 'polisi' 'kadada' 'baguna'</td>\n",
       "      <td>1.0</td>\n",
       "      <td>1</td>\n",
       "    </tr>\n",
       "    <tr>\n",
       "      <th>1</th>\n",
       "      <td>'itulah' 'pak' 'negri' 'kita' 'proyeknya' 'di'...</td>\n",
       "      <td>0.0</td>\n",
       "      <td>0</td>\n",
       "    </tr>\n",
       "    <tr>\n",
       "      <th>2</th>\n",
       "      <td>'bagaimana' 'tanggapan' 'pian' 'nang' 'urang' ...</td>\n",
       "      <td>0.0</td>\n",
       "      <td>0</td>\n",
       "    </tr>\n",
       "    <tr>\n",
       "      <th>3</th>\n",
       "      <td>'kakanak' 'babungulan' 'kaini' 'rupanya' 'kaya...</td>\n",
       "      <td>1.0</td>\n",
       "      <td>1</td>\n",
       "    </tr>\n",
       "    <tr>\n",
       "      <th>4</th>\n",
       "      <td>'kanyang' 'sawa' 'dapatnya' 'duit' 'rayat' 'iy...</td>\n",
       "      <td>1.0</td>\n",
       "      <td>1</td>\n",
       "    </tr>\n",
       "  </tbody>\n",
       "</table>\n",
       "</div>"
      ],
      "text/plain": [
       "                                                text  label  label_pred\n",
       "0      'kadada' 'gunanya' 'polisi' 'kadada' 'baguna'    1.0           1\n",
       "1  'itulah' 'pak' 'negri' 'kita' 'proyeknya' 'di'...    0.0           0\n",
       "2  'bagaimana' 'tanggapan' 'pian' 'nang' 'urang' ...    0.0           0\n",
       "3  'kakanak' 'babungulan' 'kaini' 'rupanya' 'kaya...    1.0           1\n",
       "4  'kanyang' 'sawa' 'dapatnya' 'duit' 'rayat' 'iy...    1.0           1"
      ]
     },
     "execution_count": 71,
     "metadata": {},
     "output_type": "execute_result"
    }
   ],
   "source": [
    "acc2.head()"
   ]
  },
  {
   "cell_type": "markdown",
   "metadata": {},
   "source": [
    "### implementasi"
   ]
  },
  {
   "cell_type": "code",
   "execution_count": null,
   "metadata": {},
   "outputs": [],
   "source": [
    "# Save the model\n",
    "trained_model9.save('model_norm.h5')\n",
    "trained_model10.save('model_non_norm.h5')"
   ]
  },
  {
   "cell_type": "code",
   "execution_count": 77,
   "metadata": {},
   "outputs": [],
   "source": [
    "# implementasi ke sistem\n",
    "import pickle\n",
    "from keras.preprocessing.sequence import pad_sequences\n",
    "from keras.models import load_model\n",
    "\n",
    "def load_tokenizer(tokenizer_path):\n",
    "    with open(tokenizer_path, 'rb') as handle:\n",
    "        tokenizer = pickle.load(handle)\n",
    "    return tokenizer\n",
    "\n",
    "def load_custom_model(model_path):\n",
    "    with tf.keras.utils.custom_object_scope({'Attention': Attention, 'L2': regularizers.l2}):\n",
    "        model = load_model(model_path)\n",
    "    return model\n",
    "\n",
    "\n",
    "def predict_hate_speech(text, model, tokenizer, max_length=50):\n",
    "    # Clean the text\n",
    "    text = preprocess(text, 1, show_progress=False)\n",
    "    # Tokenize the text\n",
    "    text = tokenizer.texts_to_sequences(text)\n",
    "    # Pad the sequence\n",
    "    text = pad_sequences(text, maxlen=max_length)\n",
    "    # Predict the sentiment\n",
    "    prediction = model.predict(text)\n",
    "    return prediction\n",
    "\n",
    "tokenizer_norm = load_tokenizer('tokenizer_norm.pickle')\n",
    "model_norm = load_custom_model('model_norm.h5')\n",
    "\n",
    "# tokenizer_non_norm = load_tokenizer('tokenizer_non_norm.pickle')\n",
    "# model_non_norm = load_model('model_non_norm.h5')"
   ]
  },
  {
   "cell_type": "code",
   "execution_count": 78,
   "metadata": {},
   "outputs": [
    {
     "name": "stdout",
     "output_type": "stream",
     "text": [
      "1/1 [==============================] - 2s 2s/step\n",
      "Prediction:  [[0.15767491]\n",
      " [0.15767491]]\n"
     ]
    }
   ],
   "source": [
    "text = 'kada bautak'\n",
    "prediction = predict_hate_speech(text, model_norm, tokenizer_norm)\n",
    "print('Prediction: ', prediction)"
   ]
  },
  {
   "cell_type": "code",
   "execution_count": 79,
   "metadata": {},
   "outputs": [
    {
     "name": "stdout",
     "output_type": "stream",
     "text": [
      "1/1 [==============================] - 0s 83ms/step\n",
      "Prediction:  [[0.15767492]\n",
      " [0.15767492]\n",
      " [0.15767492]]\n"
     ]
    }
   ],
   "source": [
    "text = 'bakantan kada waras'\n",
    "prediction = predict_hate_speech(text, model_norm, tokenizer_norm)\n",
    "print('Prediction: ', prediction)"
   ]
  },
  {
   "cell_type": "code",
   "execution_count": null,
   "metadata": {},
   "outputs": [],
   "source": [
    "text = 'bungul'\n",
    "prediction = predict_hate_speech(text, model_non_norm, tokenizer_non_norm)\n",
    "print('Prediction: ', prediction)\n",
    "\n",
    "text = 'anjing'\n",
    "prediction = predict_hate_speech(text, model_norm, tokenizer_norm)"
   ]
  },
  {
   "cell_type": "code",
   "execution_count": 86,
   "metadata": {},
   "outputs": [],
   "source": [
    "# save model 9\n",
    "trained_model9.save('C:\\Data\\KULIAH\\skripsi\\model\\eksperimen\\model\\model_normalisasi.h5')\n",
    "trained_model10.save('C:\\Data\\KULIAH\\skripsi\\model\\eksperimen\\model\\model_non_normalisasi.h5')"
   ]
  },
  {
   "cell_type": "code",
   "execution_count": 87,
   "metadata": {},
   "outputs": [],
   "source": [
    "bilstm_model9.save('C:\\Data\\KULIAH\\skripsi\\model\\eksperimen\\pengujian\\model_normalisasi.h5')\n",
    "bilstm_model10.save('C:\\Data\\KULIAH\\skripsi\\model\\eksperimen\\pengujian\\model_non_normalisasi.h5')"
   ]
  },
  {
   "cell_type": "code",
   "execution_count": 88,
   "metadata": {},
   "outputs": [],
   "source": [
    "# save embedding matrix\n",
    "np.save('C:\\Data\\KULIAH\\skripsi\\model\\eksperimen\\model\\embedding_matrix_normalisasi.npy', embedding_matrix1)\n",
    "np.save('C:\\Data\\KULIAH\\skripsi\\model\\eksperimen\\model\\embedding_matrix_non_normalisasi.npy', embedding_matrix2)"
   ]
  },
  {
   "cell_type": "code",
   "execution_count": 43,
   "metadata": {},
   "outputs": [],
   "source": [
    "# Menyimpan data ke file npz\n",
    "np.savez('train_test_data_normalisasi.npz', x_train=x_train1, y_train=y_train1, x_test=x_test1, y_test=y_test1)\n",
    "np.savez('train_test_data_non_normalisasi.npz', x_train=x_train2, y_train=y_train2, x_test=x_test2, y_test=y_test2)"
   ]
  },
  {
   "cell_type": "code",
   "execution_count": 21,
   "metadata": {},
   "outputs": [
    {
     "ename": "NameError",
     "evalue": "name 'tokenizer' is not defined",
     "output_type": "error",
     "traceback": [
      "\u001b[1;31m---------------------------------------------------------------------------\u001b[0m",
      "\u001b[1;31mNameError\u001b[0m                                 Traceback (most recent call last)",
      "Cell \u001b[1;32mIn[21], line 4\u001b[0m\n\u001b[0;32m      2\u001b[0m \u001b[38;5;28;01mimport\u001b[39;00m \u001b[38;5;21;01mpickle\u001b[39;00m\n\u001b[0;32m      3\u001b[0m \u001b[38;5;28;01mwith\u001b[39;00m \u001b[38;5;28mopen\u001b[39m(\u001b[38;5;124m'\u001b[39m\u001b[38;5;124mtokenizer_normalisasi.pickle\u001b[39m\u001b[38;5;124m'\u001b[39m, \u001b[38;5;124m'\u001b[39m\u001b[38;5;124mwb\u001b[39m\u001b[38;5;124m'\u001b[39m) \u001b[38;5;28;01mas\u001b[39;00m handle:\n\u001b[1;32m----> 4\u001b[0m     pickle\u001b[38;5;241m.\u001b[39mdump(\u001b[43mtokenizer\u001b[49m, handle, protocol\u001b[38;5;241m=\u001b[39mpickle\u001b[38;5;241m.\u001b[39mHIGHEST_PROTOCOL)\n",
      "\u001b[1;31mNameError\u001b[0m: name 'tokenizer' is not defined"
     ]
    }
   ],
   "source": [
    "# save tokenizer\n",
    "import pickle\n",
    "with open('tokenizer_normalisasi.pickle', 'wb') as handle:\n",
    "    pickle.dump(tokenizer, handle, protocol=pickle.HIGHEST_PROTOCOL)"
   ]
  },
  {
   "cell_type": "code",
   "execution_count": null,
   "metadata": {},
   "outputs": [],
   "source": [
    "with open('tokenizer_non_normalisasi.pickle', 'wb') as handle:\n",
    "    pickle.dump(tokenizer, handle, protocol=pickle.HIGHEST_PROTOCOL)"
   ]
  }
 ],
 "metadata": {
  "kernelspec": {
   "display_name": "Python 3",
   "language": "python",
   "name": "python3"
  },
  "language_info": {
   "codemirror_mode": {
    "name": "ipython",
    "version": 3
   },
   "file_extension": ".py",
   "mimetype": "text/x-python",
   "name": "python",
   "nbconvert_exporter": "python",
   "pygments_lexer": "ipython3",
   "version": "3.11.3"
  }
 },
 "nbformat": 4,
 "nbformat_minor": 2
}
